{
  "nbformat": 4,
  "nbformat_minor": 0,
  "metadata": {
    "colab": {
      "name": "Binary Image Classifier.ipynb",
      "provenance": [],
      "collapsed_sections": []
    },
    "kernelspec": {
      "name": "python3",
      "display_name": "Python 3"
    },
    "language_info": {
      "name": "python"
    },
    "accelerator": "GPU"
  },
  "cells": [
    {
      "cell_type": "code",
      "execution_count": null,
      "metadata": {
        "colab": {
          "base_uri": "https://localhost:8080/",
          "height": 269
        },
        "id": "Ssz5isUXqzyv",
        "outputId": "94c0e6c2-c4d1-4dd6-c749-976b9a73c08e"
      },
      "outputs": [
        {
          "output_type": "stream",
          "name": "stdout",
          "text": [
            "['aster', 'ninestar']\n"
          ]
        },
        {
          "output_type": "error",
          "ename": "FileNotFoundError",
          "evalue": "ignored",
          "traceback": [
            "\u001b[0;31m---------------------------------------------------------------------------\u001b[0m",
            "\u001b[0;31mFileNotFoundError\u001b[0m                         Traceback (most recent call last)",
            "\u001b[0;32m<ipython-input-9-e300fd41eb08>\u001b[0m in \u001b[0;36m<module>\u001b[0;34m()\u001b[0m\n\u001b[1;32m     16\u001b[0m \u001b[0;34m\u001b[0m\u001b[0m\n\u001b[1;32m     17\u001b[0m \u001b[0mfile_path\u001b[0m \u001b[0;34m=\u001b[0m \u001b[0;34m(\u001b[0m\u001b[0;34m'/v_data/train/.ipynb_checkpoints'\u001b[0m\u001b[0;34m)\u001b[0m\u001b[0;34m\u001b[0m\u001b[0;34m\u001b[0m\u001b[0m\n\u001b[0;32m---> 18\u001b[0;31m \u001b[0mos\u001b[0m\u001b[0;34m.\u001b[0m\u001b[0mrmdir\u001b[0m\u001b[0;34m(\u001b[0m\u001b[0mfile_path\u001b[0m\u001b[0;34m)\u001b[0m\u001b[0;34m\u001b[0m\u001b[0;34m\u001b[0m\u001b[0m\n\u001b[0m\u001b[1;32m     19\u001b[0m \u001b[0mfile_path\u001b[0m \u001b[0;34m=\u001b[0m \u001b[0;34m(\u001b[0m\u001b[0;34m'/v_data/test/.ipynb_checkpoints'\u001b[0m\u001b[0;34m)\u001b[0m\u001b[0;34m\u001b[0m\u001b[0;34m\u001b[0m\u001b[0m\n\u001b[1;32m     20\u001b[0m \u001b[0mos\u001b[0m\u001b[0;34m.\u001b[0m\u001b[0mrmdir\u001b[0m\u001b[0;34m(\u001b[0m\u001b[0mfile_path\u001b[0m\u001b[0;34m)\u001b[0m\u001b[0;34m\u001b[0m\u001b[0;34m\u001b[0m\u001b[0m\n",
            "\u001b[0;31mFileNotFoundError\u001b[0m: [Errno 2] No such file or directory: '/v_data/train/.ipynb_checkpoints'"
          ]
        }
      ],
      "source": [
        "# Importing all necessary libraries\n",
        "\n",
        "import math\n",
        "\n",
        "from keras.preprocessing.image import ImageDataGenerator\n",
        "from keras.models import Sequential\n",
        "from keras.layers import Conv2D, MaxPooling2D\n",
        "from keras.layers import Activation, Dropout, Flatten, Dense\n",
        "from keras import backend as K\n",
        "\n",
        "img_width, img_height = 320, 320\n",
        "\n",
        "import os\n",
        "dir = os.listdir('/v_data/train')\n",
        "print(dir)\n",
        "\n",
        "file_path = ('/v_data/train/.ipynb_checkpoints')\n",
        "os.rmdir(file_path)\n",
        "file_path = ('/v_data/test/.ipynb_checkpoints')\n",
        "os.rmdir(file_path)\n",
        "\n",
        "dir = os.listdir('/v_data/train')\n",
        "print(dir)"
      ]
    },
    {
      "cell_type": "code",
      "source": [
        "train_data_dir = '/v_data/train'\n",
        "validation_data_dir = '/v_data/test'\n",
        "nb_train_samples = 100\n",
        "nb_validation_samples = 10\n",
        "epochs = 5\n",
        "batch_size = 10\n"
      ],
      "metadata": {
        "id": "OqFsqpsRq7gb"
      },
      "execution_count": null,
      "outputs": []
    },
    {
      "cell_type": "code",
      "source": [
        "if K.image_data_format() == 'channels_first':\n",
        "\tinput_shape = (3, img_width, img_height)\n",
        "else:\n",
        "\tinput_shape = (img_width, img_height, 3)\n"
      ],
      "metadata": {
        "id": "wc_RSLDGq9pA"
      },
      "execution_count": null,
      "outputs": []
    },
    {
      "cell_type": "code",
      "source": [
        "model = Sequential()\n",
        "model.add(Conv2D(32, (2, 2), input_shape=input_shape))\n",
        "model.add(Activation('relu'))\n",
        "model.add(MaxPooling2D(pool_size=(2, 2)))\n",
        "\n",
        "model.add(Conv2D(32, (2, 2)))\n",
        "model.add(Activation('relu'))\n",
        "model.add(MaxPooling2D(pool_size=(2, 2)))\n",
        "\n",
        "model.add(Conv2D(64, (2, 2)))\n",
        "model.add(Activation('relu'))\n",
        "model.add(MaxPooling2D(pool_size=(2, 2)))\n",
        "\n",
        "model.add(Flatten())\n",
        "model.add(Dense(64))\n",
        "model.add(Activation('relu'))\n",
        "model.add(Dropout(0.5))\n",
        "model.add(Dense(1))\n",
        "model.add(Activation('sigmoid'))\n"
      ],
      "metadata": {
        "id": "IqvCFvTzrAGp"
      },
      "execution_count": null,
      "outputs": []
    },
    {
      "cell_type": "code",
      "source": [
        "model.compile(loss='binary_crossentropy',\n",
        "\t\t\toptimizer='rmsprop',\n",
        "\t\t\tmetrics=['accuracy'])\n"
      ],
      "metadata": {
        "id": "b6ptz4lWrCMI"
      },
      "execution_count": null,
      "outputs": []
    },
    {
      "cell_type": "code",
      "source": [
        "train_datagen = ImageDataGenerator(\n",
        "\trescale=1. / 255,\n",
        "\tshear_range=0.2,\n",
        "\tzoom_range=0.2,\n",
        "\thorizontal_flip=True)\n",
        "\n",
        "test_datagen = ImageDataGenerator(rescale=1. / 255)\n",
        "\n",
        "train_generator = train_datagen.flow_from_directory(\n",
        "\ttrain_data_dir,\n",
        "\ttarget_size=(img_width, img_height),\n",
        "\tbatch_size=batch_size,\n",
        "\tclass_mode='binary')\n",
        "\n",
        "validation_generator = test_datagen.flow_from_directory(\n",
        "\tvalidation_data_dir,\n",
        "\ttarget_size=(img_width, img_height),\n",
        "\tbatch_size=batch_size,\n",
        "\tclass_mode='binary')\n",
        "\n",
        "model.fit_generator(\n",
        "\ttrain_generator,\n",
        "\tsteps_per_epoch=nb_train_samples // batch_size,\n",
        "\tepochs=epochs,\n",
        "\tvalidation_data=validation_generator,\n",
        "\tvalidation_steps=nb_validation_samples // batch_size)\n"
      ],
      "metadata": {
        "colab": {
          "base_uri": "https://localhost:8080/"
        },
        "id": "xhqFn_ESrEMU",
        "outputId": "4210d856-6505-4bff-8544-7f760d1a5575"
      },
      "execution_count": null,
      "outputs": [
        {
          "output_type": "stream",
          "name": "stdout",
          "text": [
            "Found 100 images belonging to 2 classes.\n",
            "Found 10 images belonging to 2 classes.\n"
          ]
        },
        {
          "output_type": "stream",
          "name": "stderr",
          "text": [
            "/usr/local/lib/python3.7/dist-packages/ipykernel_launcher.py:26: UserWarning: `Model.fit_generator` is deprecated and will be removed in a future version. Please use `Model.fit`, which supports generators.\n"
          ]
        },
        {
          "output_type": "stream",
          "name": "stdout",
          "text": [
            "Epoch 1/5\n",
            "10/10 [==============================] - 15s 223ms/step - loss: 1.0520 - accuracy: 0.6200 - val_loss: 0.2506 - val_accuracy: 1.0000\n",
            "Epoch 2/5\n",
            "10/10 [==============================] - 2s 224ms/step - loss: 0.1256 - accuracy: 0.9900 - val_loss: 0.0256 - val_accuracy: 1.0000\n",
            "Epoch 3/5\n",
            "10/10 [==============================] - 3s 268ms/step - loss: 0.0483 - accuracy: 1.0000 - val_loss: 0.0049 - val_accuracy: 1.0000\n",
            "Epoch 4/5\n",
            "10/10 [==============================] - 2s 229ms/step - loss: 0.0093 - accuracy: 1.0000 - val_loss: 0.0011 - val_accuracy: 1.0000\n",
            "Epoch 5/5\n",
            "10/10 [==============================] - 2s 227ms/step - loss: 0.0053 - accuracy: 1.0000 - val_loss: 5.5391e-05 - val_accuracy: 1.0000\n"
          ]
        },
        {
          "output_type": "execute_result",
          "data": {
            "text/plain": [
              "<keras.callbacks.History at 0x7fb9106da950>"
            ]
          },
          "metadata": {},
          "execution_count": 14
        }
      ]
    },
    {
      "cell_type": "code",
      "source": [
        "model.save_weights('model_saved.h5')"
      ],
      "metadata": {
        "id": "I0_UYpC3rGMZ"
      },
      "execution_count": null,
      "outputs": []
    },
    {
      "cell_type": "code",
      "source": [
        "from keras.models import load_model\n",
        "from keras.preprocessing.image import load_img\n",
        "from keras.preprocessing.image import img_to_array\n",
        "from keras.applications.vgg16 import preprocess_input\n",
        "from keras.applications.vgg16 import decode_predictions\n",
        "from keras.applications.vgg16 import VGG16\n",
        "import numpy as np\n",
        "\n",
        "\n",
        "image = load_img('/v_data/test/ninestar/8.jpg', target_size=(320, 320))\n",
        "img = np.array(image)\n",
        "img = img / 255.0\n",
        "img = img.reshape(1,320,320,3)\n",
        "label = model.predict(img)\n",
        "print(\"Predicted Class (0 - Aster , 1- Ninestar): \", label[0][0])\n",
        "\n",
        "if label[0][0] > 0.5:\n",
        "  print('This is a Ninestar box')\n",
        "else:\n",
        "  print('This is an Aster box')\n",
        "#after testing, images of ninestar or aster boxes from the internet classify properly, however if i grab some random image, like a plane\n",
        "#it will still try to classify ninestar or aster\n",
        "#i guess since this is binary classification and the output is one of 2 choices\n",
        "\n",
        "\n",
        "#id like to make batch predictions, display the images im predicting, and also identify how exactly this is deciding what is what\n",
        "#also, more insight on the training process\n"
      ],
      "metadata": {
        "colab": {
          "base_uri": "https://localhost:8080/"
        },
        "id": "UKKyPLC4rO8f",
        "outputId": "f16fb1f3-44c0-4bce-b6c9-d28c443e8574"
      },
      "execution_count": null,
      "outputs": [
        {
          "output_type": "stream",
          "name": "stdout",
          "text": [
            "Predicted Class (0 - Aster , 1- Ninestar):  1.16229385e-05\n",
            "This is an Aster box\n"
          ]
        }
      ]
    }
  ]
}